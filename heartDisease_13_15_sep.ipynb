{
 "cells": [
  {
   "cell_type": "code",
   "execution_count": null,
   "id": "6c60c4c3",
   "metadata": {},
   "outputs": [],
   "source": [
    "#importing necessary libraries\n",
    "import matplotlib.pyplot as plt\n",
    "from sklearn.linear_model import LogisticRegression\n",
    "from sklearn.svm import SVC\n",
    "from sklearn.ensemble import RandomForestClassifier\n",
    "import pandas as pd\n",
    "import seaborn as sns"
   ]
  },
  {
   "cell_type": "code",
   "execution_count": null,
   "id": "fc7f3153",
   "metadata": {},
   "outputs": [],
   "source": [
    "df=pd.read_csv(\"C:\\\\Users\\\\vidya\\\\Downloads\\\\heart_failure_clinical_records_dataset.csv\")\n",
    "df"
   ]
  },
  {
   "cell_type": "code",
   "execution_count": null,
   "id": "bc0795ca",
   "metadata": {},
   "outputs": [],
   "source": [
    "df.isnull().any()"
   ]
  },
  {
   "cell_type": "code",
   "execution_count": null,
   "id": "ee3ff166",
   "metadata": {},
   "outputs": [],
   "source": [
    "df.isnull().sum()"
   ]
  },
  {
   "cell_type": "code",
   "execution_count": null,
   "id": "ae4bb910",
   "metadata": {},
   "outputs": [],
   "source": [
    "#visualization\n",
    "sns.countplot(x='DEATH_EVENT',data=df)"
   ]
  },
  {
   "cell_type": "code",
   "execution_count": null,
   "id": "b50f8436",
   "metadata": {},
   "outputs": [],
   "source": [
    "sns.countplot(x='DEATH_EVENT',hue='sex',data=df)"
   ]
  },
  {
   "cell_type": "code",
   "execution_count": null,
   "id": "eb3883d6",
   "metadata": {},
   "outputs": [],
   "source": [
    "sns.countplot(x='DEATH_EVENT',hue='smoking',data=df)"
   ]
  },
  {
   "cell_type": "code",
   "execution_count": null,
   "id": "4e909434",
   "metadata": {},
   "outputs": [],
   "source": [
    "sns.countplot(x='DEATH_EVENT',hue='diabetes',data=df,palette='cubehelix')"
   ]
  },
  {
   "cell_type": "code",
   "execution_count": null,
   "id": "c98e8991",
   "metadata": {},
   "outputs": [],
   "source": [
    "sns.distplot(df['age'])"
   ]
  },
  {
   "cell_type": "code",
   "execution_count": null,
   "id": "4cb8304a",
   "metadata": {},
   "outputs": [],
   "source": [
    "sns.distplot(df['age'],kde=False)"
   ]
  },
  {
   "cell_type": "code",
   "execution_count": null,
   "id": "cf5093b2",
   "metadata": {},
   "outputs": [],
   "source": [
    "sns.heatmap(df.isnull(),yticklabels=True)"
   ]
  },
  {
   "cell_type": "code",
   "execution_count": null,
   "id": "7dd382d7",
   "metadata": {},
   "outputs": [],
   "source": [
    "sns.heatmap(df.isnull(),yticklabels=False,cmap='cividis')"
   ]
  },
  {
   "cell_type": "code",
   "execution_count": null,
   "id": "e6825b72",
   "metadata": {},
   "outputs": [],
   "source": [
    "df['age'].hist(alpha=0.6)"
   ]
  },
  {
   "cell_type": "code",
   "execution_count": null,
   "id": "e3943076",
   "metadata": {},
   "outputs": [],
   "source": [
    "df['age'].hist(alpha=0.6,bins=19)"
   ]
  },
  {
   "cell_type": "code",
   "execution_count": null,
   "id": "fe0485ab",
   "metadata": {},
   "outputs": [],
   "source": [
    "sns.pairplot(df)"
   ]
  },
  {
   "cell_type": "code",
   "execution_count": null,
   "id": "db6a0de6",
   "metadata": {},
   "outputs": [],
   "source": [
    "sns.pairplot(df,hue='smoking')"
   ]
  },
  {
   "cell_type": "code",
   "execution_count": null,
   "id": "7a11a428",
   "metadata": {},
   "outputs": [],
   "source": [
    "sns.pairplot(df,hue='smoking',kind='kde')"
   ]
  },
  {
   "cell_type": "code",
   "execution_count": null,
   "id": "a8de4513",
   "metadata": {},
   "outputs": [],
   "source": [
    "sns.boxplot(x='sex',y='age',data=df)"
   ]
  },
  {
   "cell_type": "code",
   "execution_count": null,
   "id": "1a2f1cdf",
   "metadata": {},
   "outputs": [],
   "source": [
    "sns.boxplot(x='smoking',y='age',data=df)"
   ]
  },
  {
   "cell_type": "code",
   "execution_count": null,
   "id": "ad37b306",
   "metadata": {},
   "outputs": [],
   "source": [
    "df"
   ]
  },
  {
   "cell_type": "code",
   "execution_count": null,
   "id": "01d0e803",
   "metadata": {},
   "outputs": [],
   "source": [
    "from sklearn.model_selection import train_test_split\n",
    "from sklearn.metrics import accuracy_score\n",
    "from sklearn.metrics import confusion_matrix\n",
    "from sklearn.metrics import classification_report"
   ]
  },
  {
   "cell_type": "code",
   "execution_count": null,
   "id": "0f7978a4",
   "metadata": {},
   "outputs": [],
   "source": [
    "x=df.iloc[:,:-1]\n",
    "y=df.iloc[:,-1]\n",
    "x_train,x_test,y_train,y_test=train_test_split(x,y,test_size=0.2)"
   ]
  },
  {
   "cell_type": "code",
   "execution_count": null,
   "id": "c306b445",
   "metadata": {},
   "outputs": [],
   "source": [
    "model1=LogisticRegression()\n",
    "model1.fit(x_train,y_train)\n",
    "y_pred=model1.predict(x_test)\n",
    "y_pred\n",
    "accuracy_score(y_test,y_pred)"
   ]
  },
  {
   "cell_type": "code",
   "execution_count": null,
   "id": "5c375a78",
   "metadata": {},
   "outputs": [],
   "source": [
    "model2=SVC()\n",
    "model2.fit(x_train,y_train)\n",
    "y_pred=model2.predict(x_test)\n",
    "y_pred"
   ]
  },
  {
   "cell_type": "code",
   "execution_count": null,
   "id": "0ab0a00b",
   "metadata": {},
   "outputs": [],
   "source": [
    "accuracy_score(y_test,y_pred)"
   ]
  },
  {
   "cell_type": "code",
   "execution_count": null,
   "id": "c963efa8",
   "metadata": {},
   "outputs": [],
   "source": [
    "model3=RandomForestClassifier()\n",
    "model3.fit(x_train,y_train)\n",
    "y_pred=model3.predict(x_test)\n",
    "y_pred\n"
   ]
  },
  {
   "cell_type": "code",
   "execution_count": null,
   "id": "c8b71095",
   "metadata": {},
   "outputs": [],
   "source": [
    "accuracy_score(y_test,y_pred)\n",
    "confusion_matrix(y_test,y_pred)"
   ]
  },
  {
   "cell_type": "code",
   "execution_count": null,
   "id": "69a605af",
   "metadata": {},
   "outputs": [],
   "source": [
    "from sklearn.model_selection import cross_val_score\n",
    "cross_val_score(SVC(C=5,gamma='auto',kernel='poly'),x,y,cv=5)"
   ]
  },
  {
   "cell_type": "code",
   "execution_count": null,
   "id": "307c6de9",
   "metadata": {},
   "outputs": [],
   "source": [
    "from sklearn.model_selection import GridSearchCV\n",
    "gs=GridSearchCV(SVC(),{\n",
    "    'C'=[1,2,4,6,8,10]\n",
    "    'kernel':['rbf','linear','poly']\n",
    "    'gamma':['auto','scale']\n",
    "},cv=4,return_train_score=True)"
   ]
  },
  {
   "cell_type": "code",
   "execution_count": null,
   "id": "d3b8e707",
   "metadata": {},
   "outputs": [],
   "source": [
    "gs.fit(x,y)"
   ]
  },
  {
   "cell_type": "code",
   "execution_count": null,
   "id": "c37f9fa6",
   "metadata": {},
   "outputs": [],
   "source": [
    "gs.cv_results_"
   ]
  },
  {
   "cell_type": "code",
   "execution_count": null,
   "id": "48d8e3cd",
   "metadata": {},
   "outputs": [],
   "source": [
    "df1=pd.DataFrame(gs.cv_results)\n",
    "df1"
   ]
  },
  {
   "cell_type": "code",
   "execution_count": null,
   "id": "2996b849",
   "metadata": {},
   "outputs": [],
   "source": [
    "df1[['param_c','param_gamma','param_kernel','mean_test_score']]"
   ]
  },
  {
   "cell_type": "code",
   "execution_count": null,
   "id": "9e3d1e5f",
   "metadata": {},
   "outputs": [],
   "source": [
    "model2=SVC(C=6,gamma='auto',kernel='rbf')"
   ]
  },
  {
   "cell_type": "code",
   "execution_count": null,
   "id": "2e5376da",
   "metadata": {},
   "outputs": [],
   "source": [
    "gs.best_params_"
   ]
  },
  {
   "cell_type": "code",
   "execution_count": null,
   "id": "1d355758",
   "metadata": {},
   "outputs": [],
   "source": [
    "from sklearn.model_selection import RandomizedSearchCV"
   ]
  },
  {
   "cell_type": "code",
   "execution_count": null,
   "id": "6be24a3f",
   "metadata": {},
   "outputs": [],
   "source": [
    "rs=RandomizedSearchCV(SVC(),{\n",
    "    'C':[1,4,6,8,10]\n",
    "    'kernel':['rbf','linear']\n",
    "    'gamma':['auto','scale']\n",
    "},cv=4,return_train_score=True,n_iter=3)\n",
    "rs.fit(x,y)"
   ]
  },
  {
   "cell_type": "code",
   "execution_count": null,
   "id": "965704f1",
   "metadata": {},
   "outputs": [],
   "source": [
    "df2[['param_c','param_gamma','param_kernel','mean_test_score']]\n",
    "rs.best_params_"
   ]
  },
  {
   "cell_type": "code",
   "execution_count": null,
   "id": "3fed47b7",
   "metadata": {},
   "outputs": [],
   "source": [
    "from sklearn.model_selection import train_test_split\n",
    "from sklearn.metrics import accuracy_score\n",
    "from sklearn.metrics import confusion_matrix\n",
    "from sklearn.metrics import classification_report"
   ]
  },
  {
   "cell_type": "code",
   "execution_count": null,
   "id": "6267d6db",
   "metadata": {},
   "outputs": [],
   "source": [
    "df"
   ]
  },
  {
   "cell_type": "code",
   "execution_count": null,
   "id": "dd09b4b7",
   "metadata": {},
   "outputs": [],
   "source": [
    "x=df.iloc[:,:-1]\n",
    "y=df.iloc[:,-1]"
   ]
  },
  {
   "cell_type": "code",
   "execution_count": null,
   "id": "d1e7e576",
   "metadata": {},
   "outputs": [],
   "source": [
    "x_train,x_test,y_train,y_test=train_test_split(x,y,test_size=0.2)"
   ]
  },
  {
   "cell_type": "code",
   "execution_count": null,
   "id": "7549c6c8",
   "metadata": {},
   "outputs": [],
   "source": [
    "#logistic\n",
    "model1 = LogisticRegression(random_state=0)\n",
    "model1.fit(x_train,y_train)\n",
    "y_pred = model1.predict(x_test)\n",
    "y_pred"
   ]
  },
  {
   "cell_type": "code",
   "execution_count": null,
   "id": "502471e9",
   "metadata": {},
   "outputs": [],
   "source": [
    "accuracy_score(y_test,y_pred)"
   ]
  },
  {
   "cell_type": "code",
   "execution_count": null,
   "id": "182d1556",
   "metadata": {},
   "outputs": [],
   "source": [
    "#svm\n",
    "model2 = SVC()\n",
    "model2.fit(x_train,y_train)\n",
    "y_pred = model2.predict(x_test)\n",
    "y_pred\n",
    "accuracy_score(y_test,y_pred)"
   ]
  },
  {
   "cell_type": "code",
   "execution_count": null,
   "id": "bef3988b",
   "metadata": {},
   "outputs": [],
   "source": [
    "#random forest\n",
    "model3 = RandomForestClassifier()\n",
    "model3.fit(x_train,y_train)\n",
    "y_pred = model3.predict(x_test)\n",
    "y_pred\n",
    "accuracy_score(y_test,y_pred)"
   ]
  },
  {
   "cell_type": "code",
   "execution_count": null,
   "id": "8927fef0",
   "metadata": {},
   "outputs": [],
   "source": [
    "confusion_matrix(y_test,y_pred)"
   ]
  },
  {
   "cell_type": "code",
   "execution_count": null,
   "id": "c873d3f9",
   "metadata": {},
   "outputs": [],
   "source": [
    "classification_report(y_test,y_pred)"
   ]
  },
  {
   "cell_type": "code",
   "execution_count": null,
   "id": "7105d35f",
   "metadata": {},
   "outputs": [],
   "source": [
    "from sklearn.model_selection import cross_val_score"
   ]
  },
  {
   "cell_type": "code",
   "execution_count": null,
   "id": "1e78afe1",
   "metadata": {},
   "outputs": [],
   "source": [
    "cross_val_score(SVC(),x,y,cv=5)"
   ]
  },
  {
   "cell_type": "code",
   "execution_count": null,
   "id": "135d73a9",
   "metadata": {},
   "outputs": [],
   "source": [
    "cross_val_score(SVC(C=10,gamma='auto',kernel=\"linear\"), x,y,cv=5)"
   ]
  },
  {
   "cell_type": "code",
   "execution_count": null,
   "id": "3f7d3f9c",
   "metadata": {},
   "outputs": [],
   "source": [
    "#GridSearchCV\n",
    "from sklearn.model_selection import GridSearchCV\n",
    "gs = GridSearchCV(SVC(),\n",
    "                 {\n",
    "                     'C':[1,4,7,8,10],\n",
    "                     'kernel':['rbf','linear'],\n",
    "                     'gamma':['auto','scale']\n",
    "                      \n",
    "                 },cv=4,return_train_score=True)\n",
    "\n",
    "gs.fit(x,y)\n",
    "gs.cv_results_"
   ]
  },
  {
   "cell_type": "code",
   "execution_count": null,
   "id": "9d3d89b5",
   "metadata": {},
   "outputs": [],
   "source": [
    "df1 = pd.DataFrame(gs.cv_results_)\n",
    "df1"
   ]
  },
  {
   "cell_type": "code",
   "execution_count": null,
   "id": "3cd1f593",
   "metadata": {},
   "outputs": [],
   "source": [
    "df1[['param_C','param_gamma','param_kernel','mean_test_score']]"
   ]
  },
  {
   "cell_type": "code",
   "execution_count": null,
   "id": "75cfca61",
   "metadata": {},
   "outputs": [],
   "source": [
    "gs.best_params_"
   ]
  },
  {
   "cell_type": "code",
   "execution_count": null,
   "id": "040182bf",
   "metadata": {},
   "outputs": [],
   "source": [
    "gs.best_score_"
   ]
  },
  {
   "cell_type": "code",
   "execution_count": null,
   "id": "74af25d9",
   "metadata": {},
   "outputs": [],
   "source": [
    "#random searchcv\n",
    "from sklearn.model_selection import RandomizedSearchCV\n",
    "rs = RandomizedSearchCV(SVC(),\n",
    "                 {\n",
    "                     'C':[1,4,5,6,7,8,10],\n",
    "                     'kernel':['rbf','linear'],\n",
    "                     'gamma':['auto','scale']\n",
    "                      \n",
    "                 },cv=4,return_train_score=True,n_iter=4)\n",
    "\n",
    "rs.fit(x,y)\n",
    "rs.cv_results_"
   ]
  },
  {
   "cell_type": "code",
   "execution_count": null,
   "id": "18b34e80",
   "metadata": {},
   "outputs": [],
   "source": [
    "df2 = pd.DataFrame(rs.cv_results_)\n",
    "df2"
   ]
  },
  {
   "cell_type": "code",
   "execution_count": null,
   "id": "94cfa693",
   "metadata": {},
   "outputs": [],
   "source": [
    "df2[['param_C','param_gamma','param_kernel','mean_test_score']]"
   ]
  },
  {
   "cell_type": "code",
   "execution_count": null,
   "id": "aeefbd9e",
   "metadata": {},
   "outputs": [],
   "source": [
    "rs.best_params_"
   ]
  }
 ],
 "metadata": {
  "kernelspec": {
   "display_name": "Python 3 (ipykernel)",
   "language": "python",
   "name": "python3"
  },
  "language_info": {
   "codemirror_mode": {
    "name": "ipython",
    "version": 3
   },
   "file_extension": ".py",
   "mimetype": "text/x-python",
   "name": "python",
   "nbconvert_exporter": "python",
   "pygments_lexer": "ipython3",
   "version": "3.9.6"
  }
 },
 "nbformat": 4,
 "nbformat_minor": 5
}
